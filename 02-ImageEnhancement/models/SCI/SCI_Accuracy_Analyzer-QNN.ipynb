{
 "cells": [
  {
   "cell_type": "markdown",
   "id": "6af20943-741d-437f-88ae-41f725497631",
   "metadata": {},
   "source": [
    "# Setting Up All Artifacts details"
   ]
  },
  {
   "cell_type": "code",
   "execution_count": 1,
   "id": "30805cc7-f2a6-437a-830b-6d1b5c39b684",
   "metadata": {},
   "outputs": [],
   "source": [
    "import os\n",
    "os.environ['QNN_SDK_ROOT']=\"/local/mnt/workspace/gokul/QNN/2.19.0.240124\" #set up your qnn path here.\n",
    "os.environ['ANDROID_NDK_ROOT']=\"/local/mnt/workspace/gokul/android-ndk-r25c\"\n",
    "os.environ['FOLDER_WITH_ARTIFACTS']=\"SCI\"\n",
    "os.environ['RAW_FILE_FOLDER']=\"raw\"\n",
    "os.environ['ONDEVICE_FOLDER']=\"SCI\"\n",
    "os.environ['MODEL_NAME']=\"sci_difficult_fp32\"\n",
    "os.environ['QUANTIZED_MODEL_NAME']=\"sci_difficult_w8a8\"\n",
    "os.environ['MODEL_PATH']=\"models/sci_difficult_fp32\"\n",
    "os.environ['QUANTIZED_MODEL_PATH']=\"models/sci_difficult_w8a8\"\n",
    "os.environ['TARGET_INPUT_LIST']=\"list.txt\"\n",
    "os.environ['DEVICE_HOST']=\"localhost\"\n",
    "os.environ['DEVICE_ID']=\"bc468c1d\" #fill your device-id. Use command \"adb devices\" to get devices names. example :\"e18d5d0\"\n",
    "os.environ['QNN_TARGET_ARCH']=\"aarch64-android\"\n",
    "os.environ['QNN_TARGET_STL']=\"libQnnHtp.so\""
   ]
  },
  {
   "cell_type": "code",
   "execution_count": 2,
   "id": "79e153c7-b769-417b-819d-9085c0ea06e8",
   "metadata": {},
   "outputs": [],
   "source": [
    "from PIL import Image\n",
    "import glob\n",
    "import os\n",
    "import cv2\n",
    "import numpy as np\n",
    "import torch\n",
    "import os\n",
    "import shutil"
   ]
  },
  {
   "cell_type": "markdown",
   "id": "06468cb6-c5e3-4f8f-bda9-7cd205bd4fa1",
   "metadata": {},
   "source": [
    "# Getting The Model\n",
    "\n",
    "- **If You Already have the models in the dlc folder no need to run this cell**\n",
    "- [ https://github.com/vis-opt-group/SCI.git ](Link of the Actual Model)\n",
    "- Self-Calibrated Illumination (SCI) Learning "
   ]
  },
  {
   "cell_type": "code",
   "execution_count": 3,
   "id": "ba3b91de-ae08-496a-8a16-51c0bba903d7",
   "metadata": {},
   "outputs": [
    {
     "name": "stderr",
     "output_type": "stream",
     "text": [
      "fatal: destination path 'SCI' already exists and is not an empty directory.\n"
     ]
    }
   ],
   "source": [
    "%%bash\n",
    "git clone https://github.com/vis-opt-group/SCI\n",
    "#git reset  --hard 808e70644191a63c936bd4ce73ce3f10fbc02ec8\n",
    "cp SCI.patch SCI"
   ]
  },
  {
   "cell_type": "code",
   "execution_count": 4,
   "id": "f1c28a4c-76e3-4bf4-9c03-a73a8c14c13c",
   "metadata": {},
   "outputs": [
    {
     "name": "stdout",
     "output_type": "stream",
     "text": [
      "patching file model.py\n",
      "Reversed (or previously applied) patch detected!  Assume -R? [n] \n",
      "Apply anyway? [n] \n",
      "Skipping patch.\n",
      "1 out of 1 hunk ignored -- saving rejects to file model.py.rej\n"
     ]
    },
    {
     "data": {
      "text/plain": [
       "256"
      ]
     },
     "execution_count": 4,
     "metadata": {},
     "output_type": "execute_result"
    }
   ],
   "source": [
    "command1=\"cd SCI;patch -i SCI.patch\"\n",
    "os.system(command1)"
   ]
  },
  {
   "cell_type": "code",
   "execution_count": 5,
   "id": "9da91f0f-0a4c-47b1-abff-167a668ef92b",
   "metadata": {},
   "outputs": [
    {
     "name": "stdout",
     "output_type": "stream",
     "text": [
      "ONNX Model Saved Successfully\n"
     ]
    }
   ],
   "source": [
    "%%bash\n",
    "cp generate_model.py SCI/\n",
    "cd SCI\n",
    "python generate_model.py"
   ]
  },
  {
   "cell_type": "markdown",
   "id": "a9437302-c6c3-4c2b-baba-dc78fe9ddb3c",
   "metadata": {},
   "source": [
    "#### Getting the Non Quantized DLC File"
   ]
  },
  {
   "cell_type": "markdown",
   "id": "5cde243b-4012-4102-9503-57e4e29072a7",
   "metadata": {},
   "source": [
    "#### Understanding the Architecture of the Model"
   ]
  },
  {
   "cell_type": "markdown",
   "id": "3c508fa0-bd27-4df5-9ed0-5fe50a265160",
   "metadata": {},
   "source": [
    "## Getting Dataset\n",
    "\n",
    "Use the dataset of your choice to validate the pre-processing, and post processing steps given in this notebook\n",
    "  "
   ]
  },
  {
   "cell_type": "markdown",
   "id": "cabb222d-55be-4f24-bc5e-100f017892ce",
   "metadata": {},
   "source": [
    "## Preprocessing the data to generate raw file"
   ]
  },
  {
   "cell_type": "code",
   "execution_count": 6,
   "id": "4feded9d-ebab-4485-bdf7-569693a4222c",
   "metadata": {},
   "outputs": [],
   "source": [
    "def preprocess(ll_img, hl_img):\n",
    "    ll_img = np.array(ll_img, dtype='float32')\n",
    "    hl_img = np.array(hl_img, dtype='float32')\n",
    "    \n",
    "    ll_img = np.uint8(np.clip(ll_img, 0., 255.))  # this is to simulate matlab's imwrite operation\n",
    "    hl_img = np.uint8(np.clip(hl_img, 0., 255.))  # this is to simulate matlab's imwrite operation\n",
    "    \n",
    "    ll_img = np.uint8(ll_img)\n",
    "    hl_img = np.uint8(hl_img)\n",
    "    \n",
    "    ll_img = convert_image(ll_img, source='array', target='[0, 1]')\n",
    "    hl_img = convert_image(hl_img, source='array', target='[0, 1]')\n",
    "    \n",
    "    return ll_img, hl_img"
   ]
  },
  {
   "cell_type": "code",
   "execution_count": 7,
   "id": "bc14010d-969c-413d-8b9f-11729ffc631f",
   "metadata": {},
   "outputs": [],
   "source": [
    "def convert_image(img, source, target):\n",
    "    if source == 'array':\n",
    "        img = torch.from_numpy(img.transpose((2, 0, 1))).contiguous()#chw\n",
    "        img = img.to(dtype=torch.float32).div(255) \n",
    "    elif source == '[0, 1]':\n",
    "        img = torch.clamp(img, 0, 1)  # useful to post-process output of models that can overspill\n",
    "    \n",
    "    if target == '[0, 1]':\n",
    "        pass  # already in [0, 1]\n",
    "    return img"
   ]
  },
  {
   "cell_type": "code",
   "execution_count": 8,
   "id": "78b6aed0-99ae-4cfe-a27e-e1e4bdf0f90f",
   "metadata": {},
   "outputs": [],
   "source": [
    "def post_process(img):\n",
    "    img = img.detach().cpu().numpy()\n",
    "    img = np.clip(255. * img, 0., 255.)\n",
    "    img = np.uint8(img)\n",
    "    img = img.transpose(1, 2, 0)#hwc\n",
    "    return img"
   ]
  },
  {
   "cell_type": "code",
   "execution_count": 9,
   "id": "3068ec30-fcb6-4852-9fc3-9a57fa6b6986",
   "metadata": {},
   "outputs": [],
   "source": [
    "def load_dataset(test_images_dir):\n",
    "    # Input images for the model\n",
    "    INPUTS_LL = []\n",
    "    # Post-processed images for visualization\n",
    "    IMAGES_LL = [] # LL:Low Light\n",
    "    IMAGES_HL = [] # HL:High Light\n",
    "\n",
    "    # Load the test images\n",
    "    count=0\n",
    "    for img_path in glob.glob(os.path.join(test_images_dir, '*')):\n",
    "        l_img = cv2.resize(cv2.imread(img_path),[480,640],interpolation=cv2.INTER_CUBIC)\n",
    "        l_img = cv2.cvtColor(l_img, cv2.COLOR_BGR2RGB)\n",
    "        \n",
    "        h_img = cv2.resize(cv2.imread(img_path.replace(\"low\",\"high\")),[480,640],interpolation=cv2.INTER_CUBIC)\n",
    "        h_img = cv2.cvtColor(h_img, cv2.COLOR_BGR2RGB)\n",
    "        \n",
    "        ll_img, hl_img = preprocess(l_img, h_img)#chw\n",
    "\n",
    "        INPUTS_LL.append(ll_img)#chw\n",
    "        IMAGES_LL.append(post_process(ll_img))#hwc\n",
    "        IMAGES_HL.append(post_process(hl_img))#hwc\n",
    "    return INPUTS_LL, IMAGES_LL, IMAGES_HL"
   ]
  },
  {
   "cell_type": "markdown",
   "id": "cf2c94c3-9671-48a0-bbc7-1754eed9af8c",
   "metadata": {},
   "source": [
    "**Converting the low dataset to raw file format to give it to the model and do the inference**"
   ]
  },
  {
   "cell_type": "code",
   "execution_count": 10,
   "id": "bd9cf096-9826-46ef-90c3-cbd2c7c2dade",
   "metadata": {},
   "outputs": [],
   "source": [
    "os.makedirs('raw', exist_ok=True)"
   ]
  },
  {
   "cell_type": "code",
   "execution_count": 11,
   "id": "9dd7ea61-64f9-4803-a895-a2d2d6d16530",
   "metadata": {},
   "outputs": [
    {
     "name": "stdout",
     "output_type": "stream",
     "text": [
      "0 0 0\n"
     ]
    }
   ],
   "source": [
    "test_images_dir = \"eval15/low\"\n",
    "INPUTS_LL, IMAGES_LL, IMAGES_HL = load_dataset(test_images_dir)\n",
    "print(len(INPUTS_LL),len(IMAGES_LL),len(IMAGES_HL))\n",
    "for i, img_ll in enumerate(INPUTS_LL):\n",
    "    img_ll = img_ll.cpu().detach().numpy()\n",
    "    img_ll = img_ll.astype(np.float32)\n",
    "    fid = open(\"raw/img_\"+str(i)+ \".raw\", 'wb')\n",
    "    img_ll.tofile(fid)\n",
    "    fid.close()"
   ]
  },
  {
   "cell_type": "code",
   "execution_count": 12,
   "id": "75a21462-f0b4-4fff-ac8d-88b7ce539834",
   "metadata": {},
   "outputs": [
    {
     "name": "stdout",
     "output_type": "stream",
     "text": [
      "Generating input_list \"small_raw_list.txt\" with 15 iterations\n"
     ]
    }
   ],
   "source": [
    "total_iter = 15\n",
    "print(\"Generating input_list \\\"small_raw_list.txt\\\" with {} iterations\".format(total_iter))\n",
    "with open(\"list.txt\",'w') as f:\n",
    "    for i in range(total_iter):\n",
    "        f.write(\"raw/img_{}.raw\\n\".format(i))"
   ]
  },
  {
   "cell_type": "markdown",
   "id": "04ab39bb-d77c-4cee-a471-e9aa3f431ff8",
   "metadata": {},
   "source": [
    "#### Getting the Quantized Model"
   ]
  },
  {
   "cell_type": "code",
   "execution_count": 13,
   "id": "f3c49c44-9681-4994-9fe4-d1adae64db02",
   "metadata": {},
   "outputs": [],
   "source": [
    "%%bash\n",
    "source ${QNN_SDK_ROOT}/bin/envsetup.sh\n",
    "export PATH=${ANDROID_NDK_ROOT}:${PATH}\n",
    "${QNN_SDK_ROOT}/bin/x86_64-linux-clang/qnn-onnx-converter --input_network sci_difficult.onnx --output_path ${MODEL_PATH}.cpp\n",
    "${QNN_SDK_ROOT}/bin/x86_64-linux-clang/qnn-model-lib-generator -c ${MODEL_PATH}.cpp -b ${MODEL_PATH}.bin -o models/model_libs\n",
    "${QNN_SDK_ROOT}/bin/x86_64-linux-clang/qnn-context-binary-generator \\\n",
    "              --backend ${QNN_SDK_ROOT}/lib/x86_64-linux-clang/libQnnHtp.so \\\n",
    "              --model models/model_libs/x86_64-linux-clang/lib${MODEL_NAME}.so \\\n",
    "              --binary_file ${MODEL_NAME}.serialized"
   ]
  },
  {
   "cell_type": "code",
   "execution_count": 14,
   "id": "39e68275-9410-4629-8886-1296a07bc83e",
   "metadata": {},
   "outputs": [
    {
     "name": "stdout",
     "output_type": "stream",
     "text": [
      "[INFO] AISW SDK environment set\n",
      "[INFO] QNN_SDK_ROOT: /local/mnt/workspace/gokul/QNN/2.19.0.240124\n"
     ]
    },
    {
     "name": "stderr",
     "output_type": "stream",
     "text": [
      "2024-03-04 09:42:36,750 - 235 - INFO - Simplified model validation is successful\n",
      "2024-03-04 09:42:37,578 - 235 - INFO - Saving QNN Model...\n"
     ]
    },
    {
     "name": "stdout",
     "output_type": "stream",
     "text": [
      "IrQuantizer: Quantizer param type: adjusted will be deprecated in future releases\n",
      "IrQuantizer: Quantizer type: adjusted is no longer supported. Using TF quantizer instead\n"
     ]
    },
    {
     "name": "stderr",
     "output_type": "stream",
     "text": [
      "2024-03-04 09:42:38,817 - 235 - INFO - Model CPP saved at: models/sci_difficult_w8a8.cpp \n",
      "2024-03-04 09:42:38,817 - 235 - INFO - Model BIN saved at: /local/mnt/workspace/gokul/models-for-solutions/02-low-light-enhancement/SCI/models/sci_difficult_w8a8.bin \n",
      "2024-03-04 09:42:38,817 - 235 - INFO - Conversion complete!\n"
     ]
    },
    {
     "name": "stdout",
     "output_type": "stream",
     "text": [
      "     0.1ms [  INFO ] Inferences will run in sync mode\n",
      "     0.1ms [  INFO ] Initializing logging in the backend. Callback: [0x7fd9ef440e10], Log Level: [3]\n",
      "     0.1ms [  INFO ] No BackendExtensions lib provided;initializing NetRunBackend Interface\n",
      "     0.1ms [WARNING] Unable to find a device with NetRunDeviceKeyDefault in Library NetRunBackendLibKeyDefault\n",
      "     0.2ms [  INFO ] Entering QuantizeRuntimeApp flow\n",
      "     0.4ms [  INFO ] CpuGraph::finalize\n",
      "    32.1ms [  INFO ] CpuGraph::execute\n",
      "   122.8ms [  INFO ] cleaning up resources for input tensors\n",
      "   122.9ms [  INFO ] cleaning up resources for output tensors\n",
      "   143.9ms [  INFO ] CpuGraph::execute\n",
      "   209.8ms [  INFO ] cleaning up resources for input tensors\n",
      "   209.8ms [  INFO ] cleaning up resources for output tensors\n",
      "   223.0ms [  INFO ] CpuGraph::execute\n",
      "   286.8ms [  INFO ] cleaning up resources for input tensors\n",
      "   286.8ms [  INFO ] cleaning up resources for output tensors\n",
      "   299.1ms [  INFO ] CpuGraph::execute\n",
      "   359.2ms [  INFO ] cleaning up resources for input tensors\n",
      "   359.2ms [  INFO ] cleaning up resources for output tensors\n",
      "   369.5ms [  INFO ] CpuGraph::execute\n",
      "   450.8ms [  INFO ] cleaning up resources for input tensors\n",
      "   450.8ms [  INFO ] cleaning up resources for output tensors\n",
      "   463.8ms [  INFO ] CpuGraph::execute\n",
      "   524.4ms [  INFO ] cleaning up resources for input tensors\n",
      "   524.4ms [  INFO ] cleaning up resources for output tensors\n",
      "   536.8ms [  INFO ] CpuGraph::execute\n",
      "   593.7ms [  INFO ] cleaning up resources for input tensors\n",
      "   593.7ms [  INFO ] cleaning up resources for output tensors\n",
      "   606.8ms [  INFO ] CpuGraph::execute\n",
      "   668.1ms [  INFO ] cleaning up resources for input tensors\n",
      "   668.1ms [  INFO ] cleaning up resources for output tensors\n",
      "   680.0ms [  INFO ] CpuGraph::execute\n",
      "   737.9ms [  INFO ] cleaning up resources for input tensors\n",
      "   737.9ms [  INFO ] cleaning up resources for output tensors\n",
      "   750.5ms [  INFO ] CpuGraph::execute\n",
      "   822.9ms [  INFO ] cleaning up resources for input tensors\n",
      "   822.9ms [  INFO ] cleaning up resources for output tensors\n",
      "   838.4ms [  INFO ] CpuGraph::execute\n",
      "   909.9ms [  INFO ] cleaning up resources for input tensors\n",
      "   909.9ms [  INFO ] cleaning up resources for output tensors\n",
      "   923.3ms [  INFO ] CpuGraph::execute\n",
      "   982.4ms [  INFO ] cleaning up resources for input tensors\n",
      "   982.4ms [  INFO ] cleaning up resources for output tensors\n",
      "   995.5ms [  INFO ] CpuGraph::execute\n",
      "  1061.5ms [  INFO ] cleaning up resources for input tensors\n",
      "  1061.5ms [  INFO ] cleaning up resources for output tensors\n",
      "  1073.0ms [  INFO ] CpuGraph::execute\n",
      "  1136.6ms [  INFO ] cleaning up resources for input tensors\n",
      "  1136.6ms [  INFO ] cleaning up resources for output tensors\n",
      "  1149.1ms [  INFO ] CpuGraph::execute\n",
      "  1220.2ms [  INFO ] cleaning up resources for input tensors\n",
      "  1220.2ms [  INFO ] cleaning up resources for output tensors\n",
      "  1234.7ms [  INFO ] Freeing graphsInfo\n",
      "\n",
      "--------------------------\n",
      "INFO: Building for target: x86_64-linux-clang\n",
      "--------------------------\n",
      "mkdir -p obj/x86_64-linux-clang\n",
      "clang++-9 -c -std=c++11 -march=x86-64 -O3 -fno-exceptions -fno-rtti -Wno-write-strings -DQNN_API=\"__attribute__((visibility(\\\"default\\\")))\" -fPIC -fvisibility=hidden -Ijni/ -I/local/mnt/workspace/gokul/QNN/2.19.0.240124/include/QNN jni/QnnModel.cpp -o obj/x86_64-linux-clang/QnnModel.o\n",
      "clang++-9 -c -std=c++11 -march=x86-64 -O3 -fno-exceptions -fno-rtti -Wno-write-strings -DQNN_API=\"__attribute__((visibility(\\\"default\\\")))\" -fPIC -fvisibility=hidden -Ijni/ -I/local/mnt/workspace/gokul/QNN/2.19.0.240124/include/QNN jni/QnnModelPal.cpp -o obj/x86_64-linux-clang/QnnModelPal.o\n",
      "clang++-9 -c -std=c++11 -march=x86-64 -O3 -fno-exceptions -fno-rtti -Wno-write-strings -DQNN_API=\"__attribute__((visibility(\\\"default\\\")))\" -fPIC -fvisibility=hidden -Ijni/ -I/local/mnt/workspace/gokul/QNN/2.19.0.240124/include/QNN jni/QnnWrapperUtils.cpp -o obj/x86_64-linux-clang/QnnWrapperUtils.o\n",
      "clang++-9 -c -std=c++11 -march=x86-64 -O3 -fno-exceptions -fno-rtti -Wno-write-strings -DQNN_API=\"__attribute__((visibility(\\\"default\\\")))\" -fPIC -fvisibility=hidden -Ijni/ -I/local/mnt/workspace/gokul/QNN/2.19.0.240124/include/QNN jni/sci_difficult_w8a8.cpp -o obj/x86_64-linux-clang/sci_difficult_w8a8.o\n",
      "mkdir -p obj/binary/x86_64-linux-clang\n",
      "touch obj/binary/extractbinary\n",
      "mkdir -p libs/x86_64-linux-clang\n",
      "\n",
      "--------------------------\n",
      "INFO: Building for target: aarch64-android\n",
      "--------------------------\n",
      "Android NDK: android-16 is unsupported. Using minimum supported version android-19.    \n",
      "Android NDK: WARNING: Unsupported source file extensions in jni/Android.mk for module sci_difficult_w8a8    \n",
      "Android NDK:   /enhance_in_conv_0_bias.o /enhance_in_conv_0_weight.o /enhance_out_conv_0_bias.o /enhance_out_conv_0_weight.o /onnx__Conv_32.o /onnx__Conv_33.o    \n",
      "[arm64-v8a] Compile++      : sci_difficult_w8a8 <= QnnModel.cpp\n",
      "[arm64-v8a] Compile++      : sci_difficult_w8a8 <= QnnModelPal.cpp\n",
      "[arm64-v8a] Compile++      : sci_difficult_w8a8 <= QnnWrapperUtils.cpp\n",
      "[arm64-v8a] Compile++      : sci_difficult_w8a8 <= sci_difficult_w8a8.cpp\n"
     ]
    },
    {
     "name": "stderr",
     "output_type": "stream",
     "text": [
      "jni/sci_difficult_w8a8.cpp:39:47: warning: mixture of designated and non-designated initializers in the same initializer list is a C99 extension [-Wc99-designator]\n",
      "                                              .id=0,\n",
      "                                              ^~~~~\n",
      "jni/QnnWrapperUtils.hpp:77:17: note: expanded from macro 'VALIDATE'\n",
      "    retStatus = value;                                                                           \\\n",
      "                ^~~~~\n",
      "jni/sci_difficult_w8a8.cpp:50:47: note: first non-designated initializer is here\n",
      "                                              {.clientBuf= { .data=nullptr,\n",
      "                                              ^~~~~~~~~~~~~~~~~~~~~~~~~~~~~\n",
      "jni/QnnWrapperUtils.hpp:77:17: note: expanded from macro 'VALIDATE'\n",
      "    retStatus = value;                                                                           \\\n",
      "                ^~~~~\n",
      "jni/sci_difficult_w8a8.cpp:37:45: warning: mixture of designated and non-designated initializers in the same initializer list is a C99 extension [-Wc99-designator]\n",
      "                                            .version= QNN_TENSOR_VERSION_1,\n",
      "                                            ^~~~~~~~~~~~~~~~~~~~~~~~~~~~~~\n",
      "jni/QnnWrapperUtils.hpp:77:17: note: expanded from macro 'VALIDATE'\n",
      "    retStatus = value;                                                                           \\\n",
      "                ^~~~~\n",
      "jni/sci_difficult_w8a8.cpp:38:45: note: first non-designated initializer is here\n",
      "                                            {.v1= {\n",
      "                                            ^~~~~~~\n",
      "jni/QnnWrapperUtils.hpp:77:17: note: expanded from macro 'VALIDATE'\n",
      "    retStatus = value;                                                                           \\\n",
      "                ^~~~~\n",
      "jni/sci_difficult_w8a8.cpp:58:47: warning: mixture of designated and non-designated initializers in the same initializer list is a C99 extension [-Wc99-designator]\n",
      "                                              .id=0,\n",
      "                                              ^~~~~\n",
      "jni/QnnWrapperUtils.hpp:77:17: note: expanded from macro 'VALIDATE'\n",
      "    retStatus = value;                                                                           \\\n",
      "                ^~~~~\n",
      "jni/sci_difficult_w8a8.cpp:69:47: note: first non-designated initializer is here\n",
      "                                              {.clientBuf= { .data=BINVARSTART(enhance_in_conv_0_weight),\n",
      "                                              ^~~~~~~~~~~~~~~~~~~~~~~~~~~~~~~~~~~~~~~~~~~~~~~~~~~~~~~~~~~\n",
      "jni/QnnWrapperUtils.hpp:77:17: note: expanded from macro 'VALIDATE'\n",
      "    retStatus = value;                                                                           \\\n",
      "                ^~~~~\n",
      "jni/sci_difficult_w8a8.cpp:56:45: warning: mixture of designated and non-designated initializers in the same initializer list is a C99 extension [-Wc99-designator]\n",
      "                                            .version= QNN_TENSOR_VERSION_1,\n",
      "                                            ^~~~~~~~~~~~~~~~~~~~~~~~~~~~~~\n",
      "jni/QnnWrapperUtils.hpp:77:17: note: expanded from macro 'VALIDATE'\n",
      "    retStatus = value;                                                                           \\\n",
      "                ^~~~~\n",
      "jni/sci_difficult_w8a8.cpp:57:45: note: first non-designated initializer is here\n",
      "                                            {.v1= {\n",
      "                                            ^~~~~~~\n",
      "jni/QnnWrapperUtils.hpp:77:17: note: expanded from macro 'VALIDATE'\n",
      "    retStatus = value;                                                                           \\\n",
      "                ^~~~~\n",
      "jni/sci_difficult_w8a8.cpp:77:47: warning: mixture of designated and non-designated initializers in the same initializer list is a C99 extension [-Wc99-designator]\n",
      "                                              .id=0,\n",
      "                                              ^~~~~\n",
      "jni/QnnWrapperUtils.hpp:77:17: note: expanded from macro 'VALIDATE'\n",
      "    retStatus = value;                                                                           \\\n",
      "                ^~~~~\n",
      "jni/sci_difficult_w8a8.cpp:88:47: note: first non-designated initializer is here\n",
      "                                              {.clientBuf= { .data=BINVARSTART(enhance_in_conv_0_bias),\n",
      "                                              ^~~~~~~~~~~~~~~~~~~~~~~~~~~~~~~~~~~~~~~~~~~~~~~~~~~~~~~~~\n",
      "jni/QnnWrapperUtils.hpp:77:17: note: expanded from macro 'VALIDATE'\n",
      "    retStatus = value;                                                                           \\\n",
      "                ^~~~~\n",
      "jni/sci_difficult_w8a8.cpp:75:45: warning: mixture of designated and non-designated initializers in the same initializer list is a C99 extension [-Wc99-designator]\n",
      "                                            .version= QNN_TENSOR_VERSION_1,\n",
      "                                            ^~~~~~~~~~~~~~~~~~~~~~~~~~~~~~\n",
      "jni/QnnWrapperUtils.hpp:77:17: note: expanded from macro 'VALIDATE'\n",
      "    retStatus = value;                                                                           \\\n",
      "                ^~~~~\n",
      "jni/sci_difficult_w8a8.cpp:76:45: note: first non-designated initializer is here\n",
      "                                            {.v1= {\n",
      "                                            ^~~~~~~\n",
      "jni/QnnWrapperUtils.hpp:77:17: note: expanded from macro 'VALIDATE'\n",
      "    retStatus = value;                                                                           \\\n",
      "                ^~~~~\n",
      "jni/sci_difficult_w8a8.cpp:105:13: warning: mixture of designated and non-designated initializers in the same initializer list is a C99 extension [-Wc99-designator]\n",
      "            .id=0,\n",
      "            ^~~~~\n",
      "jni/sci_difficult_w8a8.cpp:116:13: note: first non-designated initializer is here\n",
      "            {.clientBuf= { .data=(uint8_t*)__enhance_in_conv_in_conv_0_Conv_dilation,\n",
      "            ^~~~~~~~~~~~~~~~~~~~~~~~~~~~~~~~~~~~~~~~~~~~~~~~~~~~~~~~~~~~~~~~~~~~~~~~~\n",
      "jni/sci_difficult_w8a8.cpp:103:11: warning: mixture of designated and non-designated initializers in the same initializer list is a C99 extension [-Wc99-designator]\n",
      "          .version= QNN_TENSOR_VERSION_1,\n",
      "          ^~~~~~~~~~~~~~~~~~~~~~~~~~~~~~\n",
      "jni/sci_difficult_w8a8.cpp:104:11: note: first non-designated initializer is here\n",
      "          {.v1= {\n",
      "          ^~~~~~~\n",
      "jni/sci_difficult_w8a8.cpp:100:6: warning: mixture of designated and non-designated initializers in the same initializer list is a C99 extension [-Wc99-designator]\n",
      "    {.paramType=QNN_PARAMTYPE_TENSOR,\n",
      "     ^~~~~~~~~~~~~~~~~~~~~~~~~~~~~~~\n",
      "jni/sci_difficult_w8a8.cpp:102:6: note: first non-designated initializer is here\n",
      "     {.tensorParam=(Qnn_Tensor_t) {\n",
      "     ^~~~~~~~~~~~~~~~~~~~~~~~~~~~~~\n",
      "jni/sci_difficult_w8a8.cpp:123:13: warning: mixture of designated and non-designated initializers in the same initializer list is a C99 extension [-Wc99-designator]\n",
      "            .id=0,\n",
      "            ^~~~~\n",
      "jni/sci_difficult_w8a8.cpp:134:13: note: first non-designated initializer is here\n",
      "            {.clientBuf= { .data=(uint8_t*)__enhance_in_conv_in_conv_0_Conv_pad_amount,\n",
      "            ^~~~~~~~~~~~~~~~~~~~~~~~~~~~~~~~~~~~~~~~~~~~~~~~~~~~~~~~~~~~~~~~~~~~~~~~~~~\n",
      "jni/sci_difficult_w8a8.cpp:121:11: warning: mixture of designated and non-designated initializers in the same initializer list is a C99 extension [-Wc99-designator]\n",
      "          .version= QNN_TENSOR_VERSION_1,\n",
      "          ^~~~~~~~~~~~~~~~~~~~~~~~~~~~~~\n",
      "jni/sci_difficult_w8a8.cpp:122:11: note: first non-designated initializer is here\n",
      "          {.v1= {\n",
      "          ^~~~~~~\n",
      "jni/sci_difficult_w8a8.cpp:118:6: warning: mixture of designated and non-designated initializers in the same initializer list is a C99 extension [-Wc99-designator]\n",
      "    {.paramType=QNN_PARAMTYPE_TENSOR,\n",
      "     ^~~~~~~~~~~~~~~~~~~~~~~~~~~~~~~\n",
      "jni/sci_difficult_w8a8.cpp:120:6: note: first non-designated initializer is here\n",
      "     {.tensorParam=(Qnn_Tensor_t) {\n",
      "     ^~~~~~~~~~~~~~~~~~~~~~~~~~~~~~\n",
      "jni/sci_difficult_w8a8.cpp:141:13: warning: mixture of designated and non-designated initializers in the same initializer list is a C99 extension [-Wc99-designator]\n",
      "            .id=0,\n",
      "            ^~~~~\n",
      "jni/sci_difficult_w8a8.cpp:152:13: note: first non-designated initializer is here\n",
      "            {.clientBuf= { .data=(uint8_t*)__enhance_in_conv_in_conv_0_Conv_stride,\n",
      "            ^~~~~~~~~~~~~~~~~~~~~~~~~~~~~~~~~~~~~~~~~~~~~~~~~~~~~~~~~~~~~~~~~~~~~~~\n",
      "jni/sci_difficult_w8a8.cpp:139:11: warning: mixture of designated and non-designated initializers in the same initializer list is a C99 extension [-Wc99-designator]\n",
      "          .version= QNN_TENSOR_VERSION_1,\n",
      "          ^~~~~~~~~~~~~~~~~~~~~~~~~~~~~~\n",
      "jni/sci_difficult_w8a8.cpp:140:11: note: first non-designated initializer is here\n",
      "          {.v1= {\n",
      "          ^~~~~~~\n",
      "jni/sci_difficult_w8a8.cpp:136:6: warning: mixture of designated and non-designated initializers in the same initializer list is a C99 extension [-Wc99-designator]\n",
      "    {.paramType=QNN_PARAMTYPE_TENSOR,\n",
      "     ^~~~~~~~~~~~~~~~~~~~~~~~~~~~~~~\n",
      "jni/sci_difficult_w8a8.cpp:138:6: note: first non-designated initializer is here\n",
      "     {.tensorParam=(Qnn_Tensor_t) {\n",
      "     ^~~~~~~~~~~~~~~~~~~~~~~~~~~~~~\n",
      "jni/sci_difficult_w8a8.cpp:154:6: warning: mixture of designated and non-designated initializers in the same initializer list is a C99 extension [-Wc99-designator]\n",
      "    {.paramType=QNN_PARAMTYPE_SCALAR,\n",
      "     ^~~~~~~~~~~~~~~~~~~~~~~~~~~~~~~\n",
      "jni/sci_difficult_w8a8.cpp:156:6: note: first non-designated initializer is here\n",
      "     {.scalarParam= (Qnn_Scalar_t) {QNN_DATATYPE_UINT_32, {.uint32Value = 1}}}}\n",
      "     ^~~~~~~~~~~~~~~~~~~~~~~~~~~~~~~~~~~~~~~~~~~~~~~~~~~~~~~~~~~~~~~~~~~~~~~~~\n",
      "jni/sci_difficult_w8a8.cpp:168:13: warning: mixture of designated and non-designated initializers in the same initializer list is a C99 extension [-Wc99-designator]\n",
      "            .id=0,\n",
      "            ^~~~~\n",
      "jni/sci_difficult_w8a8.cpp:179:13: note: first non-designated initializer is here\n",
      "            {.clientBuf= { .data=nullptr,\n",
      "            ^~~~~~~~~~~~~~~~~~~~~~~~~~~~~\n",
      "jni/sci_difficult_w8a8.cpp:166:11: warning: mixture of designated and non-designated initializers in the same initializer list is a C99 extension [-Wc99-designator]\n",
      "          .version= QNN_TENSOR_VERSION_1,\n",
      "          ^~~~~~~~~~~~~~~~~~~~~~~~~~~~~~\n",
      "jni/sci_difficult_w8a8.cpp:167:11: note: first non-designated initializer is here\n",
      "          {.v1= {\n",
      "          ^~~~~~~\n",
      "jni/sci_difficult_w8a8.cpp:199:47: warning: mixture of designated and non-designated initializers in the same initializer list is a C99 extension [-Wc99-designator]\n",
      "                                              .id=0,\n",
      "                                              ^~~~~\n",
      "jni/QnnWrapperUtils.hpp:77:17: note: expanded from macro 'VALIDATE'\n",
      "    retStatus = value;                                                                           \\\n",
      "                ^~~~~\n",
      "jni/sci_difficult_w8a8.cpp:210:47: note: first non-designated initializer is here\n",
      "                                              {.clientBuf= { .data=BINVARSTART(onnx__Conv_32),\n",
      "                                              ^~~~~~~~~~~~~~~~~~~~~~~~~~~~~~~~~~~~~~~~~~~~~~~~\n",
      "jni/QnnWrapperUtils.hpp:77:17: note: expanded from macro 'VALIDATE'\n",
      "    retStatus = value;                                                                           \\\n",
      "                ^~~~~\n",
      "jni/sci_difficult_w8a8.cpp:197:45: warning: mixture of designated and non-designated initializers in the same initializer list is a C99 extension [-Wc99-designator]\n",
      "                                            .version= QNN_TENSOR_VERSION_1,\n",
      "                                            ^~~~~~~~~~~~~~~~~~~~~~~~~~~~~~\n",
      "jni/QnnWrapperUtils.hpp:77:17: note: expanded from macro 'VALIDATE'\n",
      "    retStatus = value;                                                                           \\\n",
      "                ^~~~~\n",
      "jni/sci_difficult_w8a8.cpp:198:45: note: first non-designated initializer is here\n",
      "                                            {.v1= {\n",
      "                                            ^~~~~~~\n",
      "jni/QnnWrapperUtils.hpp:77:17: note: expanded from macro 'VALIDATE'\n",
      "    retStatus = value;                                                                           \\\n",
      "                ^~~~~\n",
      "jni/sci_difficult_w8a8.cpp:218:47: warning: mixture of designated and non-designated initializers in the same initializer list is a C99 extension [-Wc99-designator]\n",
      "                                              .id=0,\n",
      "                                              ^~~~~\n",
      "jni/QnnWrapperUtils.hpp:77:17: note: expanded from macro 'VALIDATE'\n",
      "    retStatus = value;                                                                           \\\n",
      "                ^~~~~\n",
      "jni/sci_difficult_w8a8.cpp:229:47: note: first non-designated initializer is here\n",
      "                                              {.clientBuf= { .data=BINVARSTART(onnx__Conv_33),\n",
      "                                              ^~~~~~~~~~~~~~~~~~~~~~~~~~~~~~~~~~~~~~~~~~~~~~~~\n",
      "jni/QnnWrapperUtils.hpp:77:17: note: expanded from macro 'VALIDATE'\n",
      "    retStatus = value;                                                                           \\\n",
      "                ^~~~~\n",
      "jni/sci_difficult_w8a8.cpp:216:45: warning: mixture of designated and non-designated initializers in the same initializer list is a C99 extension [-Wc99-designator]\n",
      "                                            .version= QNN_TENSOR_VERSION_1,\n",
      "                                            ^~~~~~~~~~~~~~~~~~~~~~~~~~~~~~\n",
      "jni/QnnWrapperUtils.hpp:77:17: note: expanded from macro 'VALIDATE'\n",
      "    retStatus = value;                                                                           \\\n",
      "                ^~~~~\n",
      "jni/sci_difficult_w8a8.cpp:217:45: note: first non-designated initializer is here\n",
      "                                            {.v1= {\n",
      "                                            ^~~~~~~\n",
      "jni/QnnWrapperUtils.hpp:77:17: note: expanded from macro 'VALIDATE'\n",
      "    retStatus = value;                                                                           \\\n",
      "                ^~~~~\n",
      "jni/sci_difficult_w8a8.cpp:246:13: warning: mixture of designated and non-designated initializers in the same initializer list is a C99 extension [-Wc99-designator]\n",
      "            .id=0,\n",
      "            ^~~~~\n",
      "jni/sci_difficult_w8a8.cpp:257:13: note: first non-designated initializer is here\n",
      "            {.clientBuf= { .data=(uint8_t*)__enhance_conv_conv_0_Conv_dilation,\n",
      "            ^~~~~~~~~~~~~~~~~~~~~~~~~~~~~~~~~~~~~~~~~~~~~~~~~~~~~~~~~~~~~~~~~~~\n",
      "jni/sci_difficult_w8a8.cpp:244:11: warning: mixture of designated and non-designated initializers in the same initializer list is a C99 extension [-Wc99-designator]\n",
      "          .version= QNN_TENSOR_VERSION_1,\n",
      "          ^~~~~~~~~~~~~~~~~~~~~~~~~~~~~~\n",
      "jni/sci_difficult_w8a8.cpp:245:11: note: first non-designated initializer is here\n",
      "          {.v1= {\n",
      "          ^~~~~~~\n",
      "jni/sci_difficult_w8a8.cpp:241:6: warning: mixture of designated and non-designated initializers in the same initializer list is a C99 extension [-Wc99-designator]\n",
      "    {.paramType=QNN_PARAMTYPE_TENSOR,\n",
      "     ^~~~~~~~~~~~~~~~~~~~~~~~~~~~~~~\n",
      "jni/sci_difficult_w8a8.cpp:243:6: note: first non-designated initializer is here\n",
      "     {.tensorParam=(Qnn_Tensor_t) {\n",
      "     ^~~~~~~~~~~~~~~~~~~~~~~~~~~~~~\n",
      "jni/sci_difficult_w8a8.cpp:264:13: warning: mixture of designated and non-designated initializers in the same initializer list is a C99 extension [-Wc99-designator]\n",
      "            .id=0,\n",
      "            ^~~~~\n",
      "jni/sci_difficult_w8a8.cpp:275:13: note: first non-designated initializer is here\n",
      "            {.clientBuf= { .data=(uint8_t*)__enhance_conv_conv_0_Conv_pad_amount,\n",
      "            ^~~~~~~~~~~~~~~~~~~~~~~~~~~~~~~~~~~~~~~~~~~~~~~~~~~~~~~~~~~~~~~~~~~~~\n",
      "jni/sci_difficult_w8a8.cpp:262:11: warning: mixture of designated and non-designated initializers in the same initializer list is a C99 extension [-Wc99-designator]\n",
      "          .version= QNN_TENSOR_VERSION_1,\n",
      "          ^~~~~~~~~~~~~~~~~~~~~~~~~~~~~~\n",
      "jni/sci_difficult_w8a8.cpp:263:11: note: first non-designated initializer is here\n",
      "          {.v1= {\n",
      "          ^~~~~~~\n",
      "jni/sci_difficult_w8a8.cpp:259:6: warning: mixture of designated and non-designated initializers in the same initializer list is a C99 extension [-Wc99-designator]\n",
      "    {.paramType=QNN_PARAMTYPE_TENSOR,\n",
      "     ^~~~~~~~~~~~~~~~~~~~~~~~~~~~~~~\n",
      "jni/sci_difficult_w8a8.cpp:261:6: note: first non-designated initializer is here\n",
      "     {.tensorParam=(Qnn_Tensor_t) {\n",
      "     ^~~~~~~~~~~~~~~~~~~~~~~~~~~~~~\n",
      "jni/sci_difficult_w8a8.cpp:282:13: warning: mixture of designated and non-designated initializers in the same initializer list is a C99 extension [-Wc99-designator]\n",
      "            .id=0,\n",
      "            ^~~~~\n",
      "jni/sci_difficult_w8a8.cpp:293:13: note: first non-designated initializer is here\n",
      "            {.clientBuf= { .data=(uint8_t*)__enhance_conv_conv_0_Conv_stride,\n",
      "            ^~~~~~~~~~~~~~~~~~~~~~~~~~~~~~~~~~~~~~~~~~~~~~~~~~~~~~~~~~~~~~~~~\n",
      "jni/sci_difficult_w8a8.cpp:280:11: warning: mixture of designated and non-designated initializers in the same initializer list is a C99 extension [-Wc99-designator]\n",
      "          .version= QNN_TENSOR_VERSION_1,\n",
      "          ^~~~~~~~~~~~~~~~~~~~~~~~~~~~~~\n",
      "jni/sci_difficult_w8a8.cpp:281:11: note: first non-designated initializer is here\n",
      "          {.v1= {\n",
      "          ^~~~~~~\n",
      "jni/sci_difficult_w8a8.cpp:277:6: warning: mixture of designated and non-designated initializers in the same initializer list is a C99 extension [-Wc99-designator]\n",
      "    {.paramType=QNN_PARAMTYPE_TENSOR,\n",
      "     ^~~~~~~~~~~~~~~~~~~~~~~~~~~~~~~\n",
      "jni/sci_difficult_w8a8.cpp:279:6: note: first non-designated initializer is here\n",
      "     {.tensorParam=(Qnn_Tensor_t) {\n",
      "     ^~~~~~~~~~~~~~~~~~~~~~~~~~~~~~\n",
      "jni/sci_difficult_w8a8.cpp:295:6: warning: mixture of designated and non-designated initializers in the same initializer list is a C99 extension [-Wc99-designator]\n",
      "    {.paramType=QNN_PARAMTYPE_SCALAR,\n",
      "     ^~~~~~~~~~~~~~~~~~~~~~~~~~~~~~~\n",
      "jni/sci_difficult_w8a8.cpp:297:6: note: first non-designated initializer is here\n",
      "     {.scalarParam= (Qnn_Scalar_t) {QNN_DATATYPE_UINT_32, {.uint32Value = 1}}}}\n",
      "     ^~~~~~~~~~~~~~~~~~~~~~~~~~~~~~~~~~~~~~~~~~~~~~~~~~~~~~~~~~~~~~~~~~~~~~~~~\n",
      "jni/sci_difficult_w8a8.cpp:309:13: warning: mixture of designated and non-designated initializers in the same initializer list is a C99 extension [-Wc99-designator]\n",
      "            .id=0,\n",
      "            ^~~~~\n",
      "jni/sci_difficult_w8a8.cpp:320:13: note: first non-designated initializer is here\n",
      "            {.clientBuf= { .data=nullptr,\n",
      "            ^~~~~~~~~~~~~~~~~~~~~~~~~~~~~\n",
      "jni/sci_difficult_w8a8.cpp:307:11: warning: mixture of designated and non-designated initializers in the same initializer list is a C99 extension [-Wc99-designator]\n",
      "          .version= QNN_TENSOR_VERSION_1,\n",
      "          ^~~~~~~~~~~~~~~~~~~~~~~~~~~~~~\n",
      "jni/sci_difficult_w8a8.cpp:308:11: note: first non-designated initializer is here\n",
      "          {.v1= {\n",
      "          ^~~~~~~\n",
      "jni/sci_difficult_w8a8.cpp:346:13: warning: mixture of designated and non-designated initializers in the same initializer list is a C99 extension [-Wc99-designator]\n",
      "            .id=0,\n",
      "            ^~~~~\n",
      "jni/sci_difficult_w8a8.cpp:357:13: note: first non-designated initializer is here\n",
      "            {.clientBuf= { .data=nullptr,\n",
      "            ^~~~~~~~~~~~~~~~~~~~~~~~~~~~~\n",
      "jni/sci_difficult_w8a8.cpp:344:11: warning: mixture of designated and non-designated initializers in the same initializer list is a C99 extension [-Wc99-designator]\n",
      "          .version= QNN_TENSOR_VERSION_1,\n",
      "          ^~~~~~~~~~~~~~~~~~~~~~~~~~~~~~\n",
      "jni/sci_difficult_w8a8.cpp:345:11: note: first non-designated initializer is here\n",
      "          {.v1= {\n",
      "          ^~~~~~~\n",
      "jni/sci_difficult_w8a8.cpp:377:47: warning: mixture of designated and non-designated initializers in the same initializer list is a C99 extension [-Wc99-designator]\n",
      "                                              .id=0,\n",
      "                                              ^~~~~\n",
      "jni/QnnWrapperUtils.hpp:77:17: note: expanded from macro 'VALIDATE'\n",
      "    retStatus = value;                                                                           \\\n",
      "                ^~~~~\n",
      "jni/sci_difficult_w8a8.cpp:388:47: note: first non-designated initializer is here\n",
      "                                              {.clientBuf= { .data=BINVARSTART(enhance_out_conv_0_weight),\n",
      "                                              ^~~~~~~~~~~~~~~~~~~~~~~~~~~~~~~~~~~~~~~~~~~~~~~~~~~~~~~~~~~~\n",
      "jni/QnnWrapperUtils.hpp:77:17: note: expanded from macro 'VALIDATE'\n",
      "    retStatus = value;                                                                           \\\n",
      "                ^~~~~\n",
      "jni/sci_difficult_w8a8.cpp:375:45: warning: mixture of designated and non-designated initializers in the same initializer list is a C99 extension [-Wc99-designator]\n",
      "                                            .version= QNN_TENSOR_VERSION_1,\n",
      "                                            ^~~~~~~~~~~~~~~~~~~~~~~~~~~~~~\n",
      "jni/QnnWrapperUtils.hpp:77:17: note: expanded from macro 'VALIDATE'\n",
      "    retStatus = value;                                                                           \\\n",
      "                ^~~~~\n",
      "jni/sci_difficult_w8a8.cpp:376:45: note: first non-designated initializer is here\n",
      "                                            {.v1= {\n",
      "                                            ^~~~~~~\n",
      "jni/QnnWrapperUtils.hpp:77:17: note: expanded from macro 'VALIDATE'\n",
      "    retStatus = value;                                                                           \\\n",
      "                ^~~~~\n",
      "jni/sci_difficult_w8a8.cpp:396:47: warning: mixture of designated and non-designated initializers in the same initializer list is a C99 extension [-Wc99-designator]\n",
      "                                              .id=0,\n",
      "                                              ^~~~~\n",
      "jni/QnnWrapperUtils.hpp:77:17: note: expanded from macro 'VALIDATE'\n",
      "    retStatus = value;                                                                           \\\n",
      "                ^~~~~\n",
      "jni/sci_difficult_w8a8.cpp:407:47: note: first non-designated initializer is here\n",
      "                                              {.clientBuf= { .data=BINVARSTART(enhance_out_conv_0_bias),\n",
      "                                              ^~~~~~~~~~~~~~~~~~~~~~~~~~~~~~~~~~~~~~~~~~~~~~~~~~~~~~~~~~\n",
      "jni/QnnWrapperUtils.hpp:77:17: note: expanded from macro 'VALIDATE'\n",
      "    retStatus = value;                                                                           \\\n",
      "                ^~~~~\n",
      "jni/sci_difficult_w8a8.cpp:394:45: warning: mixture of designated and non-designated initializers in the same initializer list is a C99 extension [-Wc99-designator]\n",
      "                                            .version= QNN_TENSOR_VERSION_1,\n",
      "                                            ^~~~~~~~~~~~~~~~~~~~~~~~~~~~~~\n",
      "jni/QnnWrapperUtils.hpp:77:17: note: expanded from macro 'VALIDATE'\n",
      "    retStatus = value;                                                                           \\\n",
      "                ^~~~~\n",
      "jni/sci_difficult_w8a8.cpp:395:45: note: first non-designated initializer is here\n",
      "                                            {.v1= {\n",
      "                                            ^~~~~~~\n",
      "jni/QnnWrapperUtils.hpp:77:17: note: expanded from macro 'VALIDATE'\n",
      "    retStatus = value;                                                                           \\\n",
      "                ^~~~~\n",
      "jni/sci_difficult_w8a8.cpp:424:13: warning: mixture of designated and non-designated initializers in the same initializer list is a C99 extension [-Wc99-designator]\n",
      "            .id=0,\n",
      "            ^~~~~\n",
      "jni/sci_difficult_w8a8.cpp:435:13: note: first non-designated initializer is here\n",
      "            {.clientBuf= { .data=(uint8_t*)__enhance_out_conv_out_conv_0_Conv_dilation,\n",
      "            ^~~~~~~~~~~~~~~~~~~~~~~~~~~~~~~~~~~~~~~~~~~~~~~~~~~~~~~~~~~~~~~~~~~~~~~~~~~\n",
      "jni/sci_difficult_w8a8.cpp:422:11: warning: mixture of designated and non-designated initializers in the same initializer list is a C99 extension [-Wc99-designator]\n",
      "          .version= QNN_TENSOR_VERSION_1,\n",
      "          ^~~~~~~~~~~~~~~~~~~~~~~~~~~~~~\n",
      "jni/sci_difficult_w8a8.cpp:423:11: note: first non-designated initializer is here\n",
      "          {.v1= {\n",
      "          ^~~~~~~\n",
      "jni/sci_difficult_w8a8.cpp:419:6: warning: mixture of designated and non-designated initializers in the same initializer list is a C99 extension [-Wc99-designator]\n",
      "    {.paramType=QNN_PARAMTYPE_TENSOR,\n",
      "     ^~~~~~~~~~~~~~~~~~~~~~~~~~~~~~~\n",
      "jni/sci_difficult_w8a8.cpp:421:6: note: first non-designated initializer is here\n",
      "     {.tensorParam=(Qnn_Tensor_t) {\n",
      "     ^~~~~~~~~~~~~~~~~~~~~~~~~~~~~~\n",
      "jni/sci_difficult_w8a8.cpp:442:13: warning: mixture of designated and non-designated initializers in the same initializer list is a C99 extension [-Wc99-designator]\n",
      "            .id=0,\n",
      "            ^~~~~\n",
      "jni/sci_difficult_w8a8.cpp:453:13: note: first non-designated initializer is here\n",
      "            {.clientBuf= { .data=(uint8_t*)__enhance_out_conv_out_conv_0_Conv_pad_amount,\n",
      "            ^~~~~~~~~~~~~~~~~~~~~~~~~~~~~~~~~~~~~~~~~~~~~~~~~~~~~~~~~~~~~~~~~~~~~~~~~~~~~\n",
      "jni/sci_difficult_w8a8.cpp:440:11: warning: mixture of designated and non-designated initializers in the same initializer list is a C99 extension [-Wc99-designator]\n",
      "          .version= QNN_TENSOR_VERSION_1,\n",
      "          ^~~~~~~~~~~~~~~~~~~~~~~~~~~~~~\n",
      "jni/sci_difficult_w8a8.cpp:441:11: note: first non-designated initializer is here\n",
      "          {.v1= {\n",
      "          ^~~~~~~\n",
      "jni/sci_difficult_w8a8.cpp:437:6: warning: mixture of designated and non-designated initializers in the same initializer list is a C99 extension [-Wc99-designator]\n",
      "    {.paramType=QNN_PARAMTYPE_TENSOR,\n",
      "     ^~~~~~~~~~~~~~~~~~~~~~~~~~~~~~~\n",
      "jni/sci_difficult_w8a8.cpp:439:6: note: first non-designated initializer is here\n",
      "     {.tensorParam=(Qnn_Tensor_t) {\n",
      "     ^~~~~~~~~~~~~~~~~~~~~~~~~~~~~~\n",
      "jni/sci_difficult_w8a8.cpp:460:13: warning: mixture of designated and non-designated initializers in the same initializer list is a C99 extension [-Wc99-designator]\n",
      "            .id=0,\n",
      "            ^~~~~\n",
      "jni/sci_difficult_w8a8.cpp:471:13: note: first non-designated initializer is here\n",
      "            {.clientBuf= { .data=(uint8_t*)__enhance_out_conv_out_conv_0_Conv_stride,\n",
      "            ^~~~~~~~~~~~~~~~~~~~~~~~~~~~~~~~~~~~~~~~~~~~~~~~~~~~~~~~~~~~~~~~~~~~~~~~~\n",
      "jni/sci_difficult_w8a8.cpp:458:11: warning: mixture of designated and non-designated initializers in the same initializer list is a C99 extension [-Wc99-designator]\n",
      "          .version= QNN_TENSOR_VERSION_1,\n",
      "          ^~~~~~~~~~~~~~~~~~~~~~~~~~~~~~\n",
      "jni/sci_difficult_w8a8.cpp:459:11: note: first non-designated initializer is here\n",
      "          {.v1= {\n",
      "          ^~~~~~~\n",
      "jni/sci_difficult_w8a8.cpp:455:6: warning: mixture of designated and non-designated initializers in the same initializer list is a C99 extension [-Wc99-designator]\n",
      "    {.paramType=QNN_PARAMTYPE_TENSOR,\n",
      "     ^~~~~~~~~~~~~~~~~~~~~~~~~~~~~~~\n",
      "jni/sci_difficult_w8a8.cpp:457:6: note: first non-designated initializer is here\n",
      "     {.tensorParam=(Qnn_Tensor_t) {\n",
      "     ^~~~~~~~~~~~~~~~~~~~~~~~~~~~~~\n",
      "jni/sci_difficult_w8a8.cpp:473:6: warning: mixture of designated and non-designated initializers in the same initializer list is a C99 extension [-Wc99-designator]\n",
      "    {.paramType=QNN_PARAMTYPE_SCALAR,\n",
      "     ^~~~~~~~~~~~~~~~~~~~~~~~~~~~~~~\n",
      "jni/sci_difficult_w8a8.cpp:475:6: note: first non-designated initializer is here\n",
      "     {.scalarParam= (Qnn_Scalar_t) {QNN_DATATYPE_UINT_32, {.uint32Value = 1}}}}\n",
      "     ^~~~~~~~~~~~~~~~~~~~~~~~~~~~~~~~~~~~~~~~~~~~~~~~~~~~~~~~~~~~~~~~~~~~~~~~~\n",
      "jni/sci_difficult_w8a8.cpp:487:13: warning: mixture of designated and non-designated initializers in the same initializer list is a C99 extension [-Wc99-designator]\n",
      "            .id=0,\n",
      "            ^~~~~\n",
      "jni/sci_difficult_w8a8.cpp:498:13: note: first non-designated initializer is here\n",
      "            {.clientBuf= { .data=nullptr,\n",
      "            ^~~~~~~~~~~~~~~~~~~~~~~~~~~~~\n",
      "jni/sci_difficult_w8a8.cpp:485:11: warning: mixture of designated and non-designated initializers in the same initializer list is a C99 extension [-Wc99-designator]\n",
      "          .version= QNN_TENSOR_VERSION_1,\n",
      "          ^~~~~~~~~~~~~~~~~~~~~~~~~~~~~~\n",
      "jni/sci_difficult_w8a8.cpp:486:11: note: first non-designated initializer is here\n",
      "          {.v1= {\n",
      "          ^~~~~~~\n",
      "jni/sci_difficult_w8a8.cpp:523:13: warning: mixture of designated and non-designated initializers in the same initializer list is a C99 extension [-Wc99-designator]\n",
      "            .id=0,\n",
      "            ^~~~~\n",
      "jni/sci_difficult_w8a8.cpp:534:13: note: first non-designated initializer is here\n",
      "            {.clientBuf= { .data=nullptr,\n",
      "            ^~~~~~~~~~~~~~~~~~~~~~~~~~~~~\n",
      "jni/sci_difficult_w8a8.cpp:521:11: warning: mixture of designated and non-designated initializers in the same initializer list is a C99 extension [-Wc99-designator]\n",
      "          .version= QNN_TENSOR_VERSION_1,\n",
      "          ^~~~~~~~~~~~~~~~~~~~~~~~~~~~~~\n",
      "jni/sci_difficult_w8a8.cpp:522:11: note: first non-designated initializer is here\n",
      "          {.v1= {\n",
      "          ^~~~~~~\n",
      "jni/sci_difficult_w8a8.cpp:560:13: warning: mixture of designated and non-designated initializers in the same initializer list is a C99 extension [-Wc99-designator]\n",
      "            .id=0,\n",
      "            ^~~~~\n",
      "jni/sci_difficult_w8a8.cpp:571:13: note: first non-designated initializer is here\n",
      "            {.clientBuf= { .data=nullptr,\n",
      "            ^~~~~~~~~~~~~~~~~~~~~~~~~~~~~\n",
      "jni/sci_difficult_w8a8.cpp:558:11: warning: mixture of designated and non-designated initializers in the same initializer list is a C99 extension [-Wc99-designator]\n",
      "          .version= QNN_TENSOR_VERSION_1,\n",
      "          ^~~~~~~~~~~~~~~~~~~~~~~~~~~~~~\n",
      "jni/sci_difficult_w8a8.cpp:559:11: note: first non-designated initializer is here\n",
      "          {.v1= {\n",
      "          ^~~~~~~\n",
      "jni/sci_difficult_w8a8.cpp:597:13: warning: mixture of designated and non-designated initializers in the same initializer list is a C99 extension [-Wc99-designator]\n",
      "            .id=0,\n",
      "            ^~~~~\n",
      "jni/sci_difficult_w8a8.cpp:608:13: note: first non-designated initializer is here\n",
      "            {.clientBuf= { .data=nullptr,\n",
      "            ^~~~~~~~~~~~~~~~~~~~~~~~~~~~~\n",
      "jni/sci_difficult_w8a8.cpp:595:11: warning: mixture of designated and non-designated initializers in the same initializer list is a C99 extension [-Wc99-designator]\n",
      "          .version= QNN_TENSOR_VERSION_1,\n",
      "          ^~~~~~~~~~~~~~~~~~~~~~~~~~~~~~\n",
      "jni/sci_difficult_w8a8.cpp:596:11: note: first non-designated initializer is here\n",
      "          {.v1= {\n",
      "          ^~~~~~~\n",
      "jni/sci_difficult_w8a8.cpp:626:6: warning: mixture of designated and non-designated initializers in the same initializer list is a C99 extension [-Wc99-designator]\n",
      "    {.paramType=QNN_PARAMTYPE_SCALAR,\n",
      "     ^~~~~~~~~~~~~~~~~~~~~~~~~~~~~~~\n",
      "jni/sci_difficult_w8a8.cpp:628:6: note: first non-designated initializer is here\n",
      "     {.scalarParam= (Qnn_Scalar_t) {QNN_DATATYPE_FLOAT_32, {.floatValue = 1.000000000000f}}}},\n",
      "     ^~~~~~~~~~~~~~~~~~~~~~~~~~~~~~~~~~~~~~~~~~~~~~~~~~~~~~~~~~~~~~~~~~~~~~~~~~~~~~~~~~~~~~~\n",
      "jni/sci_difficult_w8a8.cpp:629:6: warning: mixture of designated and non-designated initializers in the same initializer list is a C99 extension [-Wc99-designator]\n",
      "    {.paramType=QNN_PARAMTYPE_SCALAR,\n",
      "     ^~~~~~~~~~~~~~~~~~~~~~~~~~~~~~~\n",
      "jni/sci_difficult_w8a8.cpp:631:6: note: first non-designated initializer is here\n",
      "     {.scalarParam= (Qnn_Scalar_t) {QNN_DATATYPE_FLOAT_32, {.floatValue = 0.000000000000f}}}}\n",
      "     ^~~~~~~~~~~~~~~~~~~~~~~~~~~~~~~~~~~~~~~~~~~~~~~~~~~~~~~~~~~~~~~~~~~~~~~~~~~~~~~~~~~~~~~\n",
      "jni/sci_difficult_w8a8.cpp:641:13: warning: mixture of designated and non-designated initializers in the same initializer list is a C99 extension [-Wc99-designator]\n",
      "            .id=0,\n",
      "            ^~~~~\n",
      "jni/sci_difficult_w8a8.cpp:652:13: note: first non-designated initializer is here\n",
      "            {.clientBuf= { .data=nullptr,\n",
      "            ^~~~~~~~~~~~~~~~~~~~~~~~~~~~~\n",
      "jni/sci_difficult_w8a8.cpp:639:11: warning: mixture of designated and non-designated initializers in the same initializer list is a C99 extension [-Wc99-designator]\n",
      "          .version= QNN_TENSOR_VERSION_1,\n",
      "          ^~~~~~~~~~~~~~~~~~~~~~~~~~~~~~\n",
      "jni/sci_difficult_w8a8.cpp:640:11: note: first non-designated initializer is here\n",
      "          {.v1= {\n",
      "          ^~~~~~~\n",
      "62 warnings generated.\n"
     ]
    },
    {
     "name": "stdout",
     "output_type": "stream",
     "text": [
      "/local/mnt/workspace/gokul/android-ndk-r25c/toolchains/llvm/prebuilt/linux-x86_64/bin/llvm-objcopy -I binary -O elf64-littleaarch64 -B aarch64 obj/binary/enhance_in_conv_0_bias.raw obj/local/arm64-v8a/objs/sci_difficult_w8a8//enhance_in_conv_0_bias.o\n",
      "/local/mnt/workspace/gokul/android-ndk-r25c/toolchains/llvm/prebuilt/linux-x86_64/bin/llvm-objcopy -I binary -O elf64-littleaarch64 -B aarch64 obj/binary/enhance_in_conv_0_weight.raw obj/local/arm64-v8a/objs/sci_difficult_w8a8//enhance_in_conv_0_weight.o\n",
      "/local/mnt/workspace/gokul/android-ndk-r25c/toolchains/llvm/prebuilt/linux-x86_64/bin/llvm-objcopy -I binary -O elf64-littleaarch64 -B aarch64 obj/binary/enhance_out_conv_0_bias.raw obj/local/arm64-v8a/objs/sci_difficult_w8a8//enhance_out_conv_0_bias.o\n",
      "/local/mnt/workspace/gokul/android-ndk-r25c/toolchains/llvm/prebuilt/linux-x86_64/bin/llvm-objcopy -I binary -O elf64-littleaarch64 -B aarch64 obj/binary/enhance_out_conv_0_weight.raw obj/local/arm64-v8a/objs/sci_difficult_w8a8//enhance_out_conv_0_weight.o\n",
      "/local/mnt/workspace/gokul/android-ndk-r25c/toolchains/llvm/prebuilt/linux-x86_64/bin/llvm-objcopy -I binary -O elf64-littleaarch64 -B aarch64 obj/binary/onnx__Conv_32.raw obj/local/arm64-v8a/objs/sci_difficult_w8a8//onnx__Conv_32.o\n",
      "/local/mnt/workspace/gokul/android-ndk-r25c/toolchains/llvm/prebuilt/linux-x86_64/bin/llvm-objcopy -I binary -O elf64-littleaarch64 -B aarch64 obj/binary/onnx__Conv_33.raw obj/local/arm64-v8a/objs/sci_difficult_w8a8//onnx__Conv_33.o\n",
      "[arm64-v8a] SharedLibrary  : libsci_difficult_w8a8.so\n",
      "[arm64-v8a] Install        : libsci_difficult_w8a8.so => libs/arm64-v8a/libsci_difficult_w8a8.so\n",
      "INFO: Output libraries saved at /local/mnt/workspace/gokul/models-for-solutions/02-low-light-enhancement/SCI/models/model_libs2\n",
      "INFO: Building models/sci_difficult_w8a8.cpp complete.\n",
      "qnn-context-binary-generator pid:202762\n"
     ]
    }
   ],
   "source": [
    "%%bash\n",
    "source ${QNN_SDK_ROOT}/bin/envsetup.sh\n",
    "export PATH=${ANDROID_NDK_ROOT}:${PATH}\n",
    "${QNN_SDK_ROOT}/bin/x86_64-linux-clang/qnn-onnx-converter --input_network sci_difficult.onnx --output_path ${QUANTIZED_MODEL_PATH}.cpp --input_list list.txt \\\n",
    "                --param_quantizer \"adjusted\" --act_quantizer \"enhanced\"\n",
    "${QNN_SDK_ROOT}/bin/x86_64-linux-clang/qnn-model-lib-generator -c ${QUANTIZED_MODEL_PATH}.cpp -b ${QUANTIZED_MODEL_PATH}.bin -o models/model_libs2\n",
    "${QNN_SDK_ROOT}/bin/x86_64-linux-clang/qnn-context-binary-generator \\\n",
    "              --backend ${QNN_SDK_ROOT}/lib/x86_64-linux-clang/libQnnHtp.so \\\n",
    "              --model models/model_libs2/x86_64-linux-clang/lib${QUANTIZED_MODEL_NAME}.so \\\n",
    "              --binary_file ${QUANTIZED_MODEL_NAME}.serialized"
   ]
  },
  {
   "cell_type": "markdown",
   "id": "6b1ec798-0245-45f9-8b84-7e0816b03430",
   "metadata": {},
   "source": [
    "## Inferencing the Model"
   ]
  },
  {
   "cell_type": "code",
   "execution_count": 15,
   "id": "0cec0f4a-cb55-49d1-8dfc-79b8df2a7d3a",
   "metadata": {},
   "outputs": [],
   "source": [
    "%%bash\n",
    "export DEVICE_SHELL=\"adb -H $DEVICE_HOST -s $DEVICE_ID\"\n",
    "$DEVICE_SHELL shell \"mkdir -p /data/local/tmp/qnnexample/$QNN_TARGET_ARCH/bin\" && $DEVICE_SHELL shell \"mkdir -p /data/local/tmp/qnnexample/$QNN_TARGET_ARCH/lib\" && $DEVICE_SHELL shell \"mkdir -p /data/local/tmp/qnnexample/dsp/lib\""
   ]
  },
  {
   "cell_type": "code",
   "execution_count": 16,
   "id": "1a4d2767-0191-4c55-a503-5b33cfa1fcb8",
   "metadata": {},
   "outputs": [],
   "source": [
    "%%bash\n",
    "export DEVICE_SHELL=\"adb -H $DEVICE_HOST -s $DEVICE_ID\"\n",
    "$DEVICE_SHELL shell \"mkdir -p /data/local/tmp/$ONDEVICE_FOLDER\""
   ]
  },
  {
   "cell_type": "code",
   "execution_count": 17,
   "id": "da764ceb-b825-4d47-badc-ee1b3418c7c0",
   "metadata": {},
   "outputs": [
    {
     "name": "stdout",
     "output_type": "stream",
     "text": [
      "/local/mnt/workspace/gokul/QNN/2.19.0.240124/lib/aarch64-android/libQnnHtp.so: 1 file pushed, 0 skipped. 400.5 MB/s (1545520 bytes in 0.004s)\n",
      "/local/mnt/workspace/gokul/QNN/2.19.0.240124/bin/aarch64-android/qnn-net-run: 1 file pushed, 0 skipped. 424.4 MB/s (1441208 bytes in 0.003s)\n",
      "/local/mnt/workspace/gokul/QNN/2.19.0.240124/lib/hexagon-v73/unsigned/libCalculator_skel.so: 1 file pushed, 0 skipped. 223.1 MB/s (7128 bytes in 0.000s)\n",
      "/local/mnt/workspace/gokul/QNN/2.19.0.240124/lib/hexagon-v73/unsigned/libQnnHtpV73QemuDriver.so: 1 file pushed, 0 skipped. 501.2 MB/s (7601584 bytes in 0.014s)\n",
      "/local/mnt/workspace/gokul/QNN/2.19.0.240124/lib/hexagon-v73/unsigned/libQnnHtpV73Skel.so: 1 file pushed, 0 skipped. 524.3 MB/s (7360784 bytes in 0.013s)\n",
      "/local/mnt/workspace/gokul/QNN/2.19.0.240124/lib/hexagon-v73/unsigned/libQnnHtpV73.so: 1 file pushed, 0 skipped. 521.0 MB/s (8025008 bytes in 0.015s)\n",
      "/local/mnt/workspace/gokul/QNN/2.19.0.240124/lib/hexagon-v73/unsigned/libQnnSaver.so: 1 file pushed, 0 skipped. 407.5 MB/s (280044 bytes in 0.001s)\n",
      "/local/mnt/workspace/gokul/QNN/2.19.0.240124/lib/hexagon-v73/unsigned/libQnnSystem.so: 1 file pushed, 0 skipped. 917.2 MB/s (56360 bytes in 0.000s)\n",
      "6 files pushed, 0 skipped. 202.1 MB/s (23330908 bytes in 0.110s)\n",
      "/local/mnt/workspace/gokul/QNN/2.19.0.240124/lib/aarch64-android/libhta_hexagon_runtime_qnn.so: 1 file pushed, 0 skipped. 447.2 MB/s (2789832 bytes in 0.006s)\n",
      "/local/mnt/workspace/gokul/QNN/2.19.0.240124/lib/aarch64-android/libQnnChrometraceProfilingReader.so: 1 file pushed, 0 skipped. 421.4 MB/s (516568 bytes in 0.001s)\n",
      "/local/mnt/workspace/gokul/QNN/2.19.0.240124/lib/aarch64-android/libQnnCpu.so: 1 file pushed, 0 skipped. 527.5 MB/s (4822376 bytes in 0.009s)\n",
      "/local/mnt/workspace/gokul/QNN/2.19.0.240124/lib/aarch64-android/libQnnDspNetRunExtensions.so: 1 file pushed, 0 skipped. 490.8 MB/s (634024 bytes in 0.001s)\n",
      "/local/mnt/workspace/gokul/QNN/2.19.0.240124/lib/aarch64-android/libQnnDsp.so: 1 file pushed, 0 skipped. 460.4 MB/s (1238520 bytes in 0.003s)\n",
      "/local/mnt/workspace/gokul/QNN/2.19.0.240124/lib/aarch64-android/libQnnDspV66CalculatorStub.so: 1 file pushed, 0 skipped. 446.4 MB/s (6368 bytes in 0.000s)\n",
      "/local/mnt/workspace/gokul/QNN/2.19.0.240124/lib/aarch64-android/libQnnDspV66Stub.so: 1 file pushed, 0 skipped. 457.7 MB/s (278216 bytes in 0.001s)\n",
      "/local/mnt/workspace/gokul/QNN/2.19.0.240124/lib/aarch64-android/libQnnGpuNetRunExtensions.so: 1 file pushed, 0 skipped. 503.7 MB/s (626472 bytes in 0.001s)\n",
      "/local/mnt/workspace/gokul/QNN/2.19.0.240124/lib/aarch64-android/libQnnGpuProfilingReader.so: 1 file pushed, 0 skipped. 502.7 MB/s (517864 bytes in 0.001s)\n",
      "/local/mnt/workspace/gokul/QNN/2.19.0.240124/lib/aarch64-android/libQnnGpu.so: 1 file pushed, 0 skipped. 518.0 MB/s (4484984 bytes in 0.008s)\n",
      "/local/mnt/workspace/gokul/QNN/2.19.0.240124/lib/aarch64-android/libQnnHtaNetRunExtensions.so: 1 file pushed, 0 skipped. 506.3 MB/s (621800 bytes in 0.001s)\n",
      "/local/mnt/workspace/gokul/QNN/2.19.0.240124/lib/aarch64-android/libQnnHta.so: 1 file pushed, 0 skipped. 399.8 MB/s (896360 bytes in 0.002s)\n",
      "/local/mnt/workspace/gokul/QNN/2.19.0.240124/lib/aarch64-android/libQnnHtpNetRunExtensions.so: 1 file pushed, 0 skipped. 490.4 MB/s (721360 bytes in 0.001s)\n",
      "/local/mnt/workspace/gokul/QNN/2.19.0.240124/lib/aarch64-android/libQnnHtpOptraceProfilingReader.so: 1 file pushed, 0 skipped. 495.2 MB/s (617896 bytes in 0.001s)\n",
      "/local/mnt/workspace/gokul/QNN/2.19.0.240124/lib/aarch64-android/libQnnHtpPrepare.so: 1 file pushed, 0 skipped. 566.1 MB/s (26627504 bytes in 0.045s)\n",
      "/local/mnt/workspace/gokul/QNN/2.19.0.240124/lib/aarch64-android/libQnnHtpProfilingReader.so: 1 file pushed, 0 skipped. 502.6 MB/s (502584 bytes in 0.001s)\n",
      "/local/mnt/workspace/gokul/QNN/2.19.0.240124/lib/aarch64-android/libQnnHtp.so: 1 file pushed, 0 skipped. 472.9 MB/s (1545520 bytes in 0.003s)\n",
      "/local/mnt/workspace/gokul/QNN/2.19.0.240124/lib/aarch64-android/libQnnHtpV68CalculatorStub.so: 1 file pushed, 0 skipped. 402.2 MB/s (6416 bytes in 0.000s)\n",
      "/local/mnt/workspace/gokul/QNN/2.19.0.240124/lib/aarch64-android/libQnnHtpV68Stub.so: 1 file pushed, 0 skipped. 465.8 MB/s (281936 bytes in 0.001s)\n",
      "/local/mnt/workspace/gokul/QNN/2.19.0.240124/lib/aarch64-android/libQnnHtpV69CalculatorStub.so: 1 file pushed, 0 skipped. 521.5 MB/s (6416 bytes in 0.000s)\n",
      "/local/mnt/workspace/gokul/QNN/2.19.0.240124/lib/aarch64-android/libQnnHtpV69Stub.so: 1 file pushed, 0 skipped. 471.1 MB/s (282816 bytes in 0.001s)\n",
      "/local/mnt/workspace/gokul/QNN/2.19.0.240124/lib/aarch64-android/libQnnHtpV73CalculatorStub.so: 1 file pushed, 0 skipped. 409.0 MB/s (6968 bytes in 0.000s)\n",
      "/local/mnt/workspace/gokul/QNN/2.19.0.240124/lib/aarch64-android/libQnnHtpV73Stub.so: 1 file pushed, 0 skipped. 473.4 MB/s (290408 bytes in 0.001s)\n",
      "/local/mnt/workspace/gokul/QNN/2.19.0.240124/lib/aarch64-android/libQnnHtpV75CalculatorStub.so: 1 file pushed, 0 skipped. 622.5 MB/s (6968 bytes in 0.000s)\n",
      "/local/mnt/workspace/gokul/QNN/2.19.0.240124/lib/aarch64-android/libQnnHtpV75Stub.so: 1 file pushed, 0 skipped. 457.6 MB/s (290408 bytes in 0.001s)\n",
      "/local/mnt/workspace/gokul/QNN/2.19.0.240124/lib/aarch64-android/libQnnJsonProfilingReader.so: 1 file pushed, 0 skipped. 511.3 MB/s (521504 bytes in 0.001s)\n",
      "/local/mnt/workspace/gokul/QNN/2.19.0.240124/lib/aarch64-android/libQnnModelDlc.so: 1 file pushed, 0 skipped. 487.8 MB/s (1598240 bytes in 0.003s)\n",
      "/local/mnt/workspace/gokul/QNN/2.19.0.240124/lib/aarch64-android/libQnnSaver.so: 1 file pushed, 0 skipped. 484.1 MB/s (689360 bytes in 0.001s)\n",
      "/local/mnt/workspace/gokul/QNN/2.19.0.240124/lib/aarch64-android/libQnnSystem.so: 1 file pushed, 0 skipped. 409.4 MB/s (229024 bytes in 0.001s)\n",
      "29 files pushed, 0 skipped. 296.0 MB/s (51658712 bytes in 0.166s)\n"
     ]
    }
   ],
   "source": [
    "%%bash\n",
    "export DEVICE_SHELL=\"adb -H $DEVICE_HOST -s $DEVICE_ID\"\n",
    "$DEVICE_SHELL push $QNN_SDK_ROOT/lib/$QNN_TARGET_ARCH/$QNN_TARGET_STL /data/local/tmp/$ONDEVICE_FOLDER\n",
    "$DEVICE_SHELL push $QNN_SDK_ROOT/bin/$QNN_TARGET_ARCH/qnn-net-run /data/local/tmp/$ONDEVICE_FOLDER\n",
    "$DEVICE_SHELL push $QNN_SDK_ROOT/lib/hexagon-v73/unsigned/*.so /data/local/tmp/$ONDEVICE_FOLDER\n",
    "$DEVICE_SHELL push $QNN_SDK_ROOT/lib/$QNN_TARGET_ARCH/*.so /data/local/tmp/$ONDEVICE_FOLDER"
   ]
  },
  {
   "cell_type": "code",
   "execution_count": 18,
   "id": "55da49eb-35ce-4b10-9e62-dd99c740204a",
   "metadata": {},
   "outputs": [
    {
     "name": "stdout",
     "output_type": "stream",
     "text": [
      "output/sci_difficult_w8a8.serialized.bin: 1 file pushed, 0 skipped. 205.8 MB/s (95896 bytes in 0.000s)\n",
      "output/sci_difficult_fp32.serialized.bin: 1 file pushed, 0 skipped. 172.0 MB/s (108304 bytes in 0.001s)\n",
      "models/model_libs2/aarch64-android/libsci_difficult_w8a8.so: 1 file pushed, 0 skipped. 313.0 MB/s (326408 bytes in 0.001s)\n",
      "raw/: 15 files pushed, 0 skipped. 317.7 MB/s (55296000 bytes in 0.166s)\n",
      "list.txt: 1 file pushed, 0 skipped. 5.7 MB/s (215 bytes in 0.000s)\n"
     ]
    }
   ],
   "source": [
    "%%bash\n",
    "#find ./raw -name *.raw > list.txt\n",
    "export DEVICE_SHELL=\"adb -H $DEVICE_HOST -s $DEVICE_ID\"\n",
    "$DEVICE_SHELL push output/${QUANTIZED_MODEL_NAME}.serialized.bin /data/local/tmp/$ONDEVICE_FOLDER\n",
    "$DEVICE_SHELL push output/${MODEL_NAME}.serialized.bin /data/local/tmp/$ONDEVICE_FOLDER\n",
    "$DEVICE_SHELL push models/model_libs2/aarch64-android/lib${QUANTIZED_MODEL_NAME}.so /data/local/tmp/$ONDEVICE_FOLDER\n",
    "$DEVICE_SHELL push $RAW_FILE_FOLDER /data/local/tmp/$ONDEVICE_FOLDER\n",
    "$DEVICE_SHELL push $TARGET_INPUT_LIST /data/local/tmp/$ONDEVICE_FOLDER"
   ]
  },
  {
   "cell_type": "markdown",
   "id": "a0105ea8-354e-4bb0-a159-d387d0836ecd",
   "metadata": {},
   "source": [
    "#### Inferencing the Quantized Model"
   ]
  },
  {
   "cell_type": "code",
   "execution_count": 19,
   "id": "c529c3c3-bdbc-4904-b4df-fbd0c952e0cd",
   "metadata": {},
   "outputs": [
    {
     "name": "stdout",
     "output_type": "stream",
     "text": [
      "qnn-net-run pid:13015\n"
     ]
    },
    {
     "name": "stderr",
     "output_type": "stream",
     "text": [
      "WARNING: linker: Warning: unable to normalize \"$/data/local/tmp/SCI\" (ignoring)\n",
      "WARNING: linker: Warning: unable to normalize \"$/data/local/tmp/SCI\" (ignoring)\n"
     ]
    }
   ],
   "source": [
    "%%bash\n",
    "export DEVICE_SHELL=\"adb -H $DEVICE_HOST -s $DEVICE_ID\"\n",
    "$DEVICE_SHELL shell\n",
    "export ONDEVICE_FOLDER=\"SCI\"\n",
    "export device_path=/data/local/tmp/$ONDEVICE_FOLDER\n",
    "export LD_LIBRARY_PATH=$device_path\n",
    "export ADSP_LIBRARY_PATH=\"$device_path\"\n",
    "export PATH=$PATH:$device_path\n",
    "export QUANTIZED_MODEL_NAME=\"sci_difficult_w8a8\"\n",
    "cd $device_path\n",
    "export OUTPUT_FOLDER=OUTPUT_Quant_DSP\n",
    "cd /data/local/tmp/$ONDEVICE_FOLDER  && \n",
    "./qnn-net-run --backend libQnnHtp.so --input_list list.txt --retrieve_context ${QUANTIZED_MODEL_NAME}.serialized.bin --output_dir $OUTPUT_FOLDER"
   ]
  },
  {
   "cell_type": "markdown",
   "id": "1cd5e3be-da14-47fc-b646-b95a823f4bef",
   "metadata": {},
   "source": [
    "#### Inferencing the 32b Model"
   ]
  },
  {
   "cell_type": "code",
   "execution_count": 20,
   "id": "712c3232-ddb0-42ef-9698-90127101f4a0",
   "metadata": {},
   "outputs": [
    {
     "name": "stdout",
     "output_type": "stream",
     "text": [
      "qnn-net-run pid:13023\n"
     ]
    }
   ],
   "source": [
    "%%bash\n",
    "export DEVICE_SHELL=\"adb -H $DEVICE_HOST -s $DEVICE_ID\"\n",
    "$DEVICE_SHELL shell\n",
    "export ONDEVICE_FOLDER=\"SCI\"\n",
    "export device_path=/data/local/tmp/$ONDEVICE_FOLDER\n",
    "export LD_LIBRARY_PATH=$device_path\n",
    "export ADSP_LIBRARY_PATH=\"$device_path\"\n",
    "export PATH=$PATH:$device_path\n",
    "export QUANTIZED_MODEL_NAME=\"sci_difficult_w8a8\"\n",
    "cd $device_path\n",
    "export OUTPUT_FOLDER=OUTPUT_CPU\n",
    "cd /data/local/tmp/$ONDEVICE_FOLDER  && \n",
    "./qnn-net-run --backend libQnnCpu.so --input_list list.txt --model lib${QUANTIZED_MODEL_NAME}.so --output_dir $OUTPUT_FOLDER"
   ]
  },
  {
   "cell_type": "markdown",
   "id": "69943bca-744b-47aa-a6b1-fdf00732c9aa",
   "metadata": {},
   "source": [
    "#### Pulling the Output"
   ]
  },
  {
   "cell_type": "code",
   "execution_count": 21,
   "id": "9f0dc837-1af9-4b72-af4d-67d34e098dfe",
   "metadata": {},
   "outputs": [],
   "source": [
    "%%bash\n",
    "rm -rf OUTPUT_Quant_DSP\n",
    "rm -rf OUTPUT_CPU"
   ]
  },
  {
   "cell_type": "code",
   "execution_count": 22,
   "id": "429f4154-627d-4705-8288-501f06497e1e",
   "metadata": {},
   "outputs": [
    {
     "name": "stdout",
     "output_type": "stream",
     "text": [
      "/data/local/tmp/SCI/OUTPUT_Quant_DSP/: 30 files pulled, 0 skipped. 152.4 MB/s (110592000 bytes in 0.692s)\n",
      "/data/local/tmp/SCI/OUTPUT_CPU/: 30 files pulled, 0 skipped. 165.3 MB/s (110592000 bytes in 0.638s)\n"
     ]
    }
   ],
   "source": [
    "%%bash\n",
    "\n",
    "export DEVICE_SHELL=\"adb -H $DEVICE_HOST -s $DEVICE_ID\"\n",
    "$DEVICE_SHELL pull /data/local/tmp/$ONDEVICE_FOLDER/OUTPUT_Quant_DSP output/OUTPUT_Quant_DSP\n",
    "$DEVICE_SHELL pull /data/local/tmp/$ONDEVICE_FOLDER/OUTPUT_CPU output/OUTPUT_CPU"
   ]
  },
  {
   "cell_type": "markdown",
   "id": "889540a8-0ffe-490a-882b-6f7a5dc02f02",
   "metadata": {},
   "source": [
    "### Post Processing and Calculating PSNR Value"
   ]
  },
  {
   "cell_type": "code",
   "execution_count": 23,
   "id": "643886d4-587c-4e7f-a366-b5545cec7839",
   "metadata": {},
   "outputs": [],
   "source": [
    "import math\n",
    "def compute_psnr(img_pred, img_true, data_range=255., eps=1e-8):\n",
    "    err = (img_pred - img_true) ** 2 \n",
    "    err = np.mean(err)\n",
    "    return 10. * math.log10((data_range ** 2) / (err + eps))\n",
    "def evaluate_average_psnr(el_images, hl_images): #(enhanced_light<model o/p>, high_light <groud_truth>)\n",
    "    psnr = []\n",
    "    for i in range(len(el_images)):\n",
    "        el_img = cv2.imread(el_images[i], 1)\n",
    "        hl_img = cv2.imread(hl_images[i], 1)\n",
    "        psnr.append(compute_psnr(el_img,hl_img))\n",
    "    average_psnr = np.mean(np.array(psnr))\n",
    "    return average_psnr"
   ]
  },
  {
   "cell_type": "code",
   "execution_count": 24,
   "id": "61efbd61-7b86-4539-ba03-dbfc3e6da4dc",
   "metadata": {},
   "outputs": [],
   "source": [
    "def post_process_enhanced(img):\n",
    "    img = np.fromfile(img, np.float32)\n",
    "    img = img.reshape((3,640,480)).astype(np.float32)\n",
    "    img = np.clip(img * 255. , 0., 255.)\n",
    "    img = np.uint8(img)\n",
    "    img = img.transpose(1, 2, 0)#hwc\n",
    "    return img"
   ]
  }
 ],
 "metadata": {
  "kernelspec": {
   "display_name": "Python 3 (ipykernel)",
   "language": "python",
   "name": "python3"
  },
  "language_info": {
   "codemirror_mode": {
    "name": "ipython",
    "version": 3
   },
   "file_extension": ".py",
   "mimetype": "text/x-python",
   "name": "python",
   "nbconvert_exporter": "python",
   "pygments_lexer": "ipython3",
   "version": "3.8.17"
  }
 },
 "nbformat": 4,
 "nbformat_minor": 5
}
